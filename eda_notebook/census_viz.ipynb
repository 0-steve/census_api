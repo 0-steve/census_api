{
 "cells": [
  {
   "attachments": {},
   "cell_type": "markdown",
   "id": "be1ff905",
   "metadata": {},
   "source": [
    "#### Visualize census tract data"
   ]
  },
  {
   "cell_type": "code",
   "execution_count": 5,
   "id": "0c8796e5",
   "metadata": {},
   "outputs": [],
   "source": [
    "import pandas as pd\n",
    "import numpy as np\n",
    "import seaborn as sns\n",
    "import matplotlib.pyplot as plt\n",
    "import glob"
   ]
  },
  {
   "cell_type": "code",
   "execution_count": 10,
   "id": "75276903",
   "metadata": {},
   "outputs": [],
   "source": [
    "# find census outputs\n",
    "csv_outputs = glob.glob(\"../census_outputs/*.csv\")\n",
    "\n",
    "# load census outputs as dataframe\n",
    "outputs_df_lst = [ pd.read_csv(file) for file in csv_outputs ]\n",
    "\n",
    "census_tract_df = pd.concat(outputs_df_lst)"
   ]
  },
  {
   "cell_type": "code",
   "execution_count": 12,
   "id": "99c02e8b",
   "metadata": {},
   "outputs": [
    {
     "data": {
      "text/plain": [
       "array(['estimate', 'annotation of estimate', 'margin of error',\n",
       "       'annotation of margin of error', 'percent',\n",
       "       'annotation of percent', 'percent margin of error',\n",
       "       'annotation of percent margin of error'], dtype=object)"
      ]
     },
     "execution_count": 12,
     "metadata": {},
     "output_type": "execute_result"
    }
   ],
   "source": [
    "census_tract_df.measurement.unique()"
   ]
  },
  {
   "cell_type": "code",
   "execution_count": null,
   "id": "be770b01",
   "metadata": {},
   "outputs": [],
   "source": []
  }
 ],
 "metadata": {
  "kernelspec": {
   "display_name": "Python 3.8.14 64-bit",
   "language": "python",
   "name": "python3"
  },
  "language_info": {
   "codemirror_mode": {
    "name": "ipython",
    "version": 3
   },
   "file_extension": ".py",
   "mimetype": "text/x-python",
   "name": "python",
   "nbconvert_exporter": "python",
   "pygments_lexer": "ipython3",
   "version": "3.8.14"
  },
  "vscode": {
   "interpreter": {
    "hash": "5b6e8fba36db23bc4d54e0302cd75fdd75c29d9edcbab68d6cfc74e7e4b30305"
   }
  }
 },
 "nbformat": 4,
 "nbformat_minor": 5
}
