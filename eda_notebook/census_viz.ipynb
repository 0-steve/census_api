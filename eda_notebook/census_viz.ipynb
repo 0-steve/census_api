{
 "cells": [
  {
   "attachments": {},
   "cell_type": "markdown",
   "id": "be1ff905",
   "metadata": {},
   "source": [
    "#### Visualize census tract data"
   ]
  },
  {
   "cell_type": "code",
   "execution_count": 1,
   "id": "0c8796e5",
   "metadata": {},
   "outputs": [],
   "source": [
    "import numpy as np\n",
    "import pandas as pd\n",
    "import dask.dataframe as dd\n",
    "import seaborn as sns\n",
    "import matplotlib.pyplot as plt"
   ]
  },
  {
   "cell_type": "code",
   "execution_count": 2,
   "id": "75276903",
   "metadata": {},
   "outputs": [],
   "source": [
    "# with dask\n",
    "\n",
    "census_tract_df = dd.read_csv(\"../census_outputs/census_tract_2020.csv\")"
   ]
  },
  {
   "cell_type": "code",
   "execution_count": 3,
   "id": "6866ef52",
   "metadata": {},
   "outputs": [
    {
     "data": {
      "text/html": [
       "<div>\n",
       "<style scoped>\n",
       "    .dataframe tbody tr th:only-of-type {\n",
       "        vertical-align: middle;\n",
       "    }\n",
       "\n",
       "    .dataframe tbody tr th {\n",
       "        vertical-align: top;\n",
       "    }\n",
       "\n",
       "    .dataframe thead th {\n",
       "        text-align: right;\n",
       "    }\n",
       "</style>\n",
       "<table border=\"1\" class=\"dataframe\">\n",
       "  <thead>\n",
       "    <tr style=\"text-align: right;\">\n",
       "      <th></th>\n",
       "      <th>geo_id</th>\n",
       "      <th>tract_name</th>\n",
       "      <th>state_name</th>\n",
       "      <th>state_code</th>\n",
       "      <th>county</th>\n",
       "      <th>tract</th>\n",
       "      <th>variable_name</th>\n",
       "      <th>value</th>\n",
       "      <th>measurement</th>\n",
       "      <th>demographic_target</th>\n",
       "      <th>demographic</th>\n",
       "    </tr>\n",
       "  </thead>\n",
       "  <tbody>\n",
       "    <tr>\n",
       "      <th>0</th>\n",
       "      <td>1400000US01073003600</td>\n",
       "      <td>Census Tract 36, Jefferson County, Alabama</td>\n",
       "      <td>Alabama</td>\n",
       "      <td>1</td>\n",
       "      <td>73</td>\n",
       "      <td>3600</td>\n",
       "      <td>Estimate!!HOUSEHOLDS BY TYPE!!Total households</td>\n",
       "      <td>2019</td>\n",
       "      <td>estimate</td>\n",
       "      <td>households by type</td>\n",
       "      <td>total households</td>\n",
       "    </tr>\n",
       "    <tr>\n",
       "      <th>1</th>\n",
       "      <td>1400000US01073003600</td>\n",
       "      <td>Census Tract 36, Jefferson County, Alabama</td>\n",
       "      <td>Alabama</td>\n",
       "      <td>1</td>\n",
       "      <td>73</td>\n",
       "      <td>3600</td>\n",
       "      <td>Annotation of Estimate!!HOUSEHOLDS BY TYPE!!To...</td>\n",
       "      <td>0</td>\n",
       "      <td>annotation of estimate</td>\n",
       "      <td>households by type</td>\n",
       "      <td>total households</td>\n",
       "    </tr>\n",
       "    <tr>\n",
       "      <th>2</th>\n",
       "      <td>1400000US01073003600</td>\n",
       "      <td>Census Tract 36, Jefferson County, Alabama</td>\n",
       "      <td>Alabama</td>\n",
       "      <td>1</td>\n",
       "      <td>73</td>\n",
       "      <td>3600</td>\n",
       "      <td>Margin of Error!!HOUSEHOLDS BY TYPE!!Total hou...</td>\n",
       "      <td>408</td>\n",
       "      <td>margin of error</td>\n",
       "      <td>households by type</td>\n",
       "      <td>total households</td>\n",
       "    </tr>\n",
       "    <tr>\n",
       "      <th>3</th>\n",
       "      <td>1400000US01073003600</td>\n",
       "      <td>Census Tract 36, Jefferson County, Alabama</td>\n",
       "      <td>Alabama</td>\n",
       "      <td>1</td>\n",
       "      <td>73</td>\n",
       "      <td>3600</td>\n",
       "      <td>Annotation of Margin of Error!!HOUSEHOLDS BY T...</td>\n",
       "      <td>0</td>\n",
       "      <td>annotation of margin of error</td>\n",
       "      <td>households by type</td>\n",
       "      <td>total households</td>\n",
       "    </tr>\n",
       "    <tr>\n",
       "      <th>4</th>\n",
       "      <td>1400000US01073003600</td>\n",
       "      <td>Census Tract 36, Jefferson County, Alabama</td>\n",
       "      <td>Alabama</td>\n",
       "      <td>1</td>\n",
       "      <td>73</td>\n",
       "      <td>3600</td>\n",
       "      <td>Percent!!HOUSEHOLDS BY TYPE!!Total households</td>\n",
       "      <td>2019</td>\n",
       "      <td>percent</td>\n",
       "      <td>households by type</td>\n",
       "      <td>total households</td>\n",
       "    </tr>\n",
       "  </tbody>\n",
       "</table>\n",
       "</div>"
      ],
      "text/plain": [
       "                 geo_id                                  tract_name  \\\n",
       "0  1400000US01073003600  Census Tract 36, Jefferson County, Alabama   \n",
       "1  1400000US01073003600  Census Tract 36, Jefferson County, Alabama   \n",
       "2  1400000US01073003600  Census Tract 36, Jefferson County, Alabama   \n",
       "3  1400000US01073003600  Census Tract 36, Jefferson County, Alabama   \n",
       "4  1400000US01073003600  Census Tract 36, Jefferson County, Alabama   \n",
       "\n",
       "  state_name  state_code  county  tract  \\\n",
       "0    Alabama           1      73   3600   \n",
       "1    Alabama           1      73   3600   \n",
       "2    Alabama           1      73   3600   \n",
       "3    Alabama           1      73   3600   \n",
       "4    Alabama           1      73   3600   \n",
       "\n",
       "                                       variable_name value  \\\n",
       "0     Estimate!!HOUSEHOLDS BY TYPE!!Total households  2019   \n",
       "1  Annotation of Estimate!!HOUSEHOLDS BY TYPE!!To...     0   \n",
       "2  Margin of Error!!HOUSEHOLDS BY TYPE!!Total hou...   408   \n",
       "3  Annotation of Margin of Error!!HOUSEHOLDS BY T...     0   \n",
       "4      Percent!!HOUSEHOLDS BY TYPE!!Total households  2019   \n",
       "\n",
       "                     measurement  demographic_target       demographic  \n",
       "0                       estimate  households by type  total households  \n",
       "1         annotation of estimate  households by type  total households  \n",
       "2                margin of error  households by type  total households  \n",
       "3  annotation of margin of error  households by type  total households  \n",
       "4                        percent  households by type  total households  "
      ]
     },
     "execution_count": 3,
     "metadata": {},
     "output_type": "execute_result"
    }
   ],
   "source": [
    "# show first 5 rows of first partition\n",
    "\n",
    "census_tract_df.head()"
   ]
  },
  {
   "cell_type": "code",
   "execution_count": 4,
   "id": "962b0687",
   "metadata": {},
   "outputs": [
    {
     "data": {
      "text/plain": [
       "911"
      ]
     },
     "execution_count": 4,
     "metadata": {},
     "output_type": "execute_result"
    }
   ],
   "source": [
    "# show number of partitions\n",
    "\n",
    "census_tract_df.npartitions"
   ]
  },
  {
   "cell_type": "code",
   "execution_count": 5,
   "id": "e5b5eb32",
   "metadata": {},
   "outputs": [
    {
     "name": "stdout",
     "output_type": "stream",
     "text": [
      "<class 'dask.dataframe.core.DataFrame'>\n",
      "Columns: 11 entries, geo_id to demographic\n",
      "dtypes: object(8), int64(3)"
     ]
    }
   ],
   "source": [
    "# Get information about DataFrame\n",
    "\n",
    "census_tract_df.info()"
   ]
  },
  {
   "cell_type": "code",
   "execution_count": 6,
   "id": "cb192b98",
   "metadata": {},
   "outputs": [
    {
     "data": {
      "text/plain": [
       "Index(['geo_id', 'tract_name', 'state_name', 'state_code', 'county', 'tract',\n",
       "       'variable_name', 'value', 'measurement', 'demographic_target',\n",
       "       'demographic'],\n",
       "      dtype='object')"
      ]
     },
     "execution_count": 6,
     "metadata": {},
     "output_type": "execute_result"
    }
   ],
   "source": [
    "# show column names\n",
    "\n",
    "census_tract_df.columns"
   ]
  },
  {
   "cell_type": "code",
   "execution_count": 8,
   "id": "c35c12c5",
   "metadata": {},
   "outputs": [],
   "source": [
    "# census tract count by state\n",
    "\n",
    "state_tract_count = census_tract_df.groupby(\"state_name\").size().reset_index().rename(columns = {0: \"n\"}).sort_values(\"n\", ascending = False).compute()"
   ]
  },
  {
   "cell_type": "code",
   "execution_count": 16,
   "id": "5f7710dc",
   "metadata": {},
   "outputs": [
    {
     "data": {
      "image/png": "[encoded data removed]",
      "text/plain": [
       "<Figure size 1440x720 with 1 Axes>"
      ]
     },
     "metadata": {
      "needs_background": "light"
     },
     "output_type": "display_data"
    }
   ],
   "source": [
    "fig, ax = plt.subplots(figsize = (20, 10))\n",
    "\n",
    "ax.get_yaxis().get_major_formatter().set_scientific(False)\n",
    "\n",
    "plt.xticks(rotation = 90)\n",
    "\n",
    "plt.title(\"Count of census tracts by state\", fontsize = 24)\n",
    "\n",
    "sns.barplot(data = state_tract_count, x= \"state_name\", y= \"n\", color= \"b\")\n",
    "\n",
    "plt.show()"
   ]
  },
  {
   "cell_type": "code",
   "execution_count": 17,
   "id": "0b8b7bf9",
   "metadata": {},
   "outputs": [],
   "source": [
    "# find non integer values & replace with 0\n",
    "\n",
    "census_tract_df[\"value\"] = dd.to_numeric(census_tract_df.value.astype(str).str.replace(',',''), errors='coerce').fillna(0).astype(int)"
   ]
  },
  {
   "cell_type": "code",
   "execution_count": 18,
   "id": "fc4dc2d3",
   "metadata": {},
   "outputs": [],
   "source": [
    "# remove rows with zero or negative values\n",
    "\n",
    "census_tract_df = census_tract_df.loc[census_tract_df[\"value\"] > 0]"
   ]
  },
  {
   "cell_type": "code",
   "execution_count": 22,
   "id": "d48194aa",
   "metadata": {},
   "outputs": [],
   "source": [
    "# look more into the following demographics:\n",
    "#  - marital status\n",
    "#  - fertility\n",
    "#  - educational attainment\n",
    "#  - residence 1 year ago\n",
    "#  - computers and internet use\n",
    "#  - u.s. citizenship status"
   ]
  }
 ],
 "metadata": {
  "kernelspec": {
   "display_name": "Python 3.8.14 64-bit",
   "language": "python",
   "name": "python3"
  },
  "language_info": {
   "codemirror_mode": {
    "name": "ipython",
    "version": 3
   },
   "file_extension": ".py",
   "mimetype": "text/x-python",
   "name": "python",
   "nbconvert_exporter": "python",
   "pygments_lexer": "ipython3",
   "version": "3.8.14"
  },
  "vscode": {
   "interpreter": {
    "hash": "5b6e8fba36db23bc4d54e0302cd75fdd75c29d9edcbab68d6cfc74e7e4b30305"
   }
  }
 },
 "nbformat": 4,
 "nbformat_minor": 5
}
